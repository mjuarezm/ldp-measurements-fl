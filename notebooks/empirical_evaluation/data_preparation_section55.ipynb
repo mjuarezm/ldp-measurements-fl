{
 "cells": [
  {
   "cell_type": "code",
   "execution_count": 1,
   "metadata": {},
   "outputs": [],
   "source": [
    "import os\n",
    "import sys\n",
    "import numpy as np\n",
    "import numpy.random as rnd\n",
    "import pandas as pd\n",
    "from scipy.special import expit\n",
    "\n",
    "import seaborn as sns\n",
    "from matplotlib import pyplot as plt\n",
    "\n",
    "import sklearn\n",
    "from sklearn.linear_model import LogisticRegression\n",
    "from sklearn.ensemble import RandomForestClassifier\n",
    "from sklearn.model_selection import train_test_split\n",
    "from sklearn.pipeline import make_pipeline\n",
    "from sklearn.preprocessing import StandardScaler\n",
    "from sklearn.preprocessing import Normalizer\n",
    "from sklearn.metrics import confusion_matrix, accuracy_score, recall_score, precision_score\n",
    "from sklearn.metrics import roc_curve"
   ]
  },
  {
   "cell_type": "code",
   "execution_count": 2,
   "metadata": {},
   "outputs": [
    {
     "data": {
      "text/plain": [
       "('3.7.6 (default, Jan  8 2020, 19:59:22) \\n[GCC 7.3.0]',\n",
       " '0.22.1',\n",
       " '1.21.6',\n",
       " '1.0.1',\n",
       " '0.11.2')"
      ]
     },
     "execution_count": 2,
     "metadata": {},
     "output_type": "execute_result"
    }
   ],
   "source": [
    "sys.version, sklearn.__version__, np.__version__, pd.__version__, sns.__version__"
   ]
  },
  {
   "cell_type": "code",
   "execution_count": 3,
   "metadata": {},
   "outputs": [],
   "source": [
    "seed = 0\n",
    "runs = 10"
   ]
  },
  {
   "cell_type": "code",
   "execution_count": 4,
   "metadata": {},
   "outputs": [],
   "source": [
    "def get_perf_df(df, value, metric, group):\n",
    "    df_copy = df.copy()\n",
    "    df_copy = df_copy[df_copy.Gender == group]\n",
    "    close_th = (df_copy[metric]\n",
    "                .sub(value)\n",
    "                .abs().groupby(df_copy.Subject)\n",
    "                .idxmin())\n",
    "    return  df_copy.loc[close_th]"
   ]
  },
  {
   "cell_type": "code",
   "execution_count": 5,
   "metadata": {},
   "outputs": [],
   "source": [
    "# DOWNLOAD AND UNZIP DATA FROM:\n",
    "#    https://archive.ics.uci.edu/ml/machine-learning-databases/00427/Datasets_Healthy_Older_People.zip\n",
    "\n",
    "dfs = []\n",
    "for d in ['S1_Dataset', 'S2_Dataset']:\n",
    "    for f in os.listdir(d):\n",
    "        fpath = os.path.join(d, f)\n",
    "        if 'README' in fpath:\n",
    "            continue\n",
    "        part = pd.read_csv(fpath, header=None, names=['Time',\n",
    "                                                      'AccGf', 'AccGv', 'AccGl',\n",
    "                                                      'IdAntenna', 'RSSI', 'Phase', 'Freq',\n",
    "                                                      'Activity'])\n",
    "        part['Lying'] = (part.Activity == 3).astype(int)  # lying\n",
    "        part['Subject'] = f[:-1] \n",
    "        part['Gender'] = f[-1]\n",
    "        dfs.append(part)\n",
    "df = pd.concat(dfs)"
   ]
  },
  {
   "cell_type": "code",
   "execution_count": 6,
   "metadata": {},
   "outputs": [
    {
     "data": {
      "text/html": [
       "<div>\n",
       "<style scoped>\n",
       "    .dataframe tbody tr th:only-of-type {\n",
       "        vertical-align: middle;\n",
       "    }\n",
       "\n",
       "    .dataframe tbody tr th {\n",
       "        vertical-align: top;\n",
       "    }\n",
       "\n",
       "    .dataframe thead th {\n",
       "        text-align: right;\n",
       "    }\n",
       "</style>\n",
       "<table border=\"1\" class=\"dataframe\">\n",
       "  <thead>\n",
       "    <tr style=\"text-align: right;\">\n",
       "      <th></th>\n",
       "      <th>Time</th>\n",
       "      <th>AccGf</th>\n",
       "      <th>AccGv</th>\n",
       "      <th>AccGl</th>\n",
       "      <th>IdAntenna</th>\n",
       "      <th>RSSI</th>\n",
       "      <th>Phase</th>\n",
       "      <th>Freq</th>\n",
       "      <th>Activity</th>\n",
       "      <th>Lying</th>\n",
       "      <th>Subject</th>\n",
       "      <th>Gender</th>\n",
       "    </tr>\n",
       "  </thead>\n",
       "  <tbody>\n",
       "    <tr>\n",
       "      <th>0</th>\n",
       "      <td>0.000</td>\n",
       "      <td>0.31893</td>\n",
       "      <td>0.99674</td>\n",
       "      <td>0.088944</td>\n",
       "      <td>4</td>\n",
       "      <td>-57.5</td>\n",
       "      <td>1.50020</td>\n",
       "      <td>924.75</td>\n",
       "      <td>1</td>\n",
       "      <td>0</td>\n",
       "      <td>d1p37</td>\n",
       "      <td>M</td>\n",
       "    </tr>\n",
       "    <tr>\n",
       "      <th>1</th>\n",
       "      <td>0.025</td>\n",
       "      <td>0.31893</td>\n",
       "      <td>0.99674</td>\n",
       "      <td>0.088944</td>\n",
       "      <td>1</td>\n",
       "      <td>-56.5</td>\n",
       "      <td>5.15420</td>\n",
       "      <td>924.25</td>\n",
       "      <td>1</td>\n",
       "      <td>0</td>\n",
       "      <td>d1p37</td>\n",
       "      <td>M</td>\n",
       "    </tr>\n",
       "    <tr>\n",
       "      <th>2</th>\n",
       "      <td>0.250</td>\n",
       "      <td>0.31893</td>\n",
       "      <td>0.99674</td>\n",
       "      <td>0.088944</td>\n",
       "      <td>4</td>\n",
       "      <td>-58.5</td>\n",
       "      <td>5.71710</td>\n",
       "      <td>924.25</td>\n",
       "      <td>1</td>\n",
       "      <td>0</td>\n",
       "      <td>d1p37</td>\n",
       "      <td>M</td>\n",
       "    </tr>\n",
       "    <tr>\n",
       "      <th>3</th>\n",
       "      <td>0.500</td>\n",
       "      <td>0.31893</td>\n",
       "      <td>0.99674</td>\n",
       "      <td>0.088944</td>\n",
       "      <td>1</td>\n",
       "      <td>-57.0</td>\n",
       "      <td>5.59140</td>\n",
       "      <td>920.75</td>\n",
       "      <td>1</td>\n",
       "      <td>0</td>\n",
       "      <td>d1p37</td>\n",
       "      <td>M</td>\n",
       "    </tr>\n",
       "    <tr>\n",
       "      <th>4</th>\n",
       "      <td>0.550</td>\n",
       "      <td>0.31893</td>\n",
       "      <td>0.99674</td>\n",
       "      <td>0.088944</td>\n",
       "      <td>1</td>\n",
       "      <td>-57.5</td>\n",
       "      <td>0.22089</td>\n",
       "      <td>923.25</td>\n",
       "      <td>1</td>\n",
       "      <td>0</td>\n",
       "      <td>d1p37</td>\n",
       "      <td>M</td>\n",
       "    </tr>\n",
       "  </tbody>\n",
       "</table>\n",
       "</div>"
      ],
      "text/plain": [
       "    Time    AccGf    AccGv     AccGl  IdAntenna  RSSI    Phase    Freq  \\\n",
       "0  0.000  0.31893  0.99674  0.088944          4 -57.5  1.50020  924.75   \n",
       "1  0.025  0.31893  0.99674  0.088944          1 -56.5  5.15420  924.25   \n",
       "2  0.250  0.31893  0.99674  0.088944          4 -58.5  5.71710  924.25   \n",
       "3  0.500  0.31893  0.99674  0.088944          1 -57.0  5.59140  920.75   \n",
       "4  0.550  0.31893  0.99674  0.088944          1 -57.5  0.22089  923.25   \n",
       "\n",
       "   Activity  Lying Subject Gender  \n",
       "0         1      0   d1p37      M  \n",
       "1         1      0   d1p37      M  \n",
       "2         1      0   d1p37      M  \n",
       "3         1      0   d1p37      M  \n",
       "4         1      0   d1p37      M  "
      ]
     },
     "execution_count": 6,
     "metadata": {},
     "output_type": "execute_result"
    }
   ],
   "source": [
    "df.head()"
   ]
  },
  {
   "cell_type": "code",
   "execution_count": 7,
   "metadata": {},
   "outputs": [],
   "source": [
    "# filter out pacients with less than 50 samples\n",
    "df = df.groupby('Subject').filter(lambda x: len(x) >= 50)"
   ]
  },
  {
   "cell_type": "code",
   "execution_count": 8,
   "metadata": {},
   "outputs": [],
   "source": [
    "# the subject should have at least 10 samples in each class\n",
    "df = df.groupby('Subject').filter(lambda x: len(x[x.Lying == 0]) >= 6 and len(x[x.Lying == 1]) >= 6)"
   ]
  },
  {
   "cell_type": "code",
   "execution_count": 9,
   "metadata": {},
   "outputs": [
    {
     "data": {
      "text/plain": [
       "Subject  Gender\n",
       "d1p01    M         401\n",
       "d1p02    M         260\n",
       "d1p03    M         328\n",
       "d1p04    M         531\n",
       "d1p05    M         498\n",
       "                  ... \n",
       "d2p23    F         204\n",
       "d2p24    F         615\n",
       "d2p25    F         202\n",
       "d2p26    F         231\n",
       "d2p27    F         178\n",
       "Name: Gender, Length: 74, dtype: int64"
      ]
     },
     "execution_count": 9,
     "metadata": {},
     "output_type": "execute_result"
    }
   ],
   "source": [
    "df.groupby('Subject').Gender.value_counts()"
   ]
  },
  {
   "cell_type": "code",
   "execution_count": 10,
   "metadata": {},
   "outputs": [
    {
     "data": {
      "text/plain": [
       "<matplotlib.axes._subplots.AxesSubplot at 0x7fa1d552d850>"
      ]
     },
     "execution_count": 10,
     "metadata": {},
     "output_type": "execute_result"
    },
    {
     "data": {
      "image/png": "[encoded data removed]",
      "text/plain": [
       "<Figure size 432x288 with 1 Axes>"
      ]
     },
     "metadata": {
      "needs_background": "light"
     },
     "output_type": "display_data"
    }
   ],
   "source": [
    "df.Lying.astype(int).hist()"
   ]
  },
  {
   "cell_type": "code",
   "execution_count": 11,
   "metadata": {},
   "outputs": [
    {
     "data": {
      "text/plain": [
       "<matplotlib.axes._subplots.AxesSubplot at 0x7fa1d7042b50>"
      ]
     },
     "execution_count": 11,
     "metadata": {},
     "output_type": "execute_result"
    },
    {
     "data": {
      "image/png": "[encoded data removed]",
      "text/plain": [
       "<Figure size 432x288 with 1 Axes>"
      ]
     },
     "metadata": {
      "needs_background": "light"
     },
     "output_type": "display_data"
    }
   ],
   "source": [
    "# dominated by females\n",
    "df.groupby(['Subject', 'Gender']).count().reset_index().Gender.hist()"
   ]
  },
  {
   "cell_type": "code",
   "execution_count": 12,
   "metadata": {},
   "outputs": [],
   "source": [
    "X = df.values[:, :-4]\n",
    "y = df.values[:, -3].astype(int)"
   ]
  },
  {
   "cell_type": "code",
   "execution_count": 13,
   "metadata": {},
   "outputs": [],
   "source": [
    "# normalize features\n",
    "normalize = Normalizer()\n",
    "X = normalize.fit_transform(X)"
   ]
  },
  {
   "cell_type": "code",
   "execution_count": 15,
   "metadata": {},
   "outputs": [],
   "source": [
    "TPRs, FPRs, ACCs = [], [], []\n",
    "m = LogisticRegression(class_weight='balanced', penalty='elasticnet', solver='saga', l1_ratio=0.99, max_iter=1000, random_state=seed)\n",
    "for i in range(runs):\n",
    "    X_train, X_test, y_train, y_test, _, subject = train_test_split(X, y, df[['Subject', 'Gender']],\n",
    "                                                                test_size=0.3,\n",
    "                                                                stratify=df.Subject,\n",
    "                                                                random_state=i)\n",
    "    m.fit(X_train, y_train)\n",
    "    y_pred = m.predict(X_test)\n",
    "    tn, fp, fn, tp = confusion_matrix(y_test, y_pred, labels=[0,1]).ravel()\n",
    "    ACCs.append(accuracy_score(y_test, y_pred))\n",
    "    TPRs.append(recall_score(y_test, y_pred))\n",
    "    FPRs.append(fp / (fp + tn))\n",
    "ACCs = np.array(ACCs)\n",
    "TPRs = np.array(TPRs)\n",
    "FPRs = np.array(FPRs)"
   ]
  },
  {
   "cell_type": "code",
   "execution_count": 16,
   "metadata": {},
   "outputs": [
    {
     "data": {
      "text/plain": [
       "(0.843711821775063, 0.0026561923721319753)"
      ]
     },
     "execution_count": 16,
     "metadata": {},
     "output_type": "execute_result"
    }
   ],
   "source": [
    "ACCs.mean(), ACCs.std()"
   ]
  },
  {
   "cell_type": "code",
   "execution_count": 17,
   "metadata": {},
   "outputs": [
    {
     "data": {
      "text/plain": [
       "(0.820539672474782, 0.0033185886525453102)"
      ]
     },
     "execution_count": 17,
     "metadata": {},
     "output_type": "execute_result"
    }
   ],
   "source": [
    "TPRs.mean(), TPRs.std()"
   ]
  },
  {
   "cell_type": "code",
   "execution_count": 18,
   "metadata": {},
   "outputs": [
    {
     "data": {
      "text/plain": [
       "(0.1058486187600672, 0.003252979140636488)"
      ]
     },
     "execution_count": 18,
     "metadata": {},
     "output_type": "execute_result"
    }
   ],
   "source": [
    "FPRs.mean(), FPRs.std()"
   ]
  },
  {
   "cell_type": "code",
   "execution_count": 20,
   "metadata": {},
   "outputs": [],
   "source": [
    "results = []\n",
    "for i, row in subject.drop_duplicates().iterrows():\n",
    "    smask = (subject.Subject == row.Subject).astype(bool)\n",
    "    y_pred = m.predict(X_test[smask, :])\n",
    "    tn, fp, fn, tp = confusion_matrix(y_test[smask], y_pred, labels=[0,1]).ravel()\n",
    "    fnr05 = fn / (fn + tp)\n",
    "    fpr05 = fp / (fp + tn)\n",
    "    scores = m.predict_proba(X_test[smask, :])\n",
    "    fpr, tpr, th = roc_curve(y_test[smask], scores[:, 1], drop_intermediate=False)\n",
    "    results.append((row.Subject, row.Gender, fnr05, fpr05, fpr, tpr, th))"
   ]
  },
  {
   "cell_type": "code",
   "execution_count": 21,
   "metadata": {},
   "outputs": [
    {
     "data": {
      "text/html": [
       "<div>\n",
       "<style scoped>\n",
       "    .dataframe tbody tr th:only-of-type {\n",
       "        vertical-align: middle;\n",
       "    }\n",
       "\n",
       "    .dataframe tbody tr th {\n",
       "        vertical-align: top;\n",
       "    }\n",
       "\n",
       "    .dataframe thead th {\n",
       "        text-align: right;\n",
       "    }\n",
       "</style>\n",
       "<table border=\"1\" class=\"dataframe\">\n",
       "  <thead>\n",
       "    <tr style=\"text-align: right;\">\n",
       "      <th></th>\n",
       "      <th>Subject</th>\n",
       "      <th>Gender</th>\n",
       "      <th>FNR05</th>\n",
       "      <th>FPR05</th>\n",
       "      <th>FPR</th>\n",
       "      <th>TPR</th>\n",
       "      <th>TH</th>\n",
       "    </tr>\n",
       "  </thead>\n",
       "  <tbody>\n",
       "    <tr>\n",
       "      <th>0</th>\n",
       "      <td>d1p48</td>\n",
       "      <td>M</td>\n",
       "      <td>0.521368</td>\n",
       "      <td>0.000000</td>\n",
       "      <td>[0.0, 0.0, 0.0, 0.0, 0.0, 0.0, 0.0, 0.0, 0.0, ...</td>\n",
       "      <td>[0.0, 0.002136752136752137, 0.0042735042735042...</td>\n",
       "      <td>[1.6600350814123797, 0.6600350814123798, 0.649...</td>\n",
       "    </tr>\n",
       "    <tr>\n",
       "      <th>1</th>\n",
       "      <td>d1p36</td>\n",
       "      <td>M</td>\n",
       "      <td>0.034783</td>\n",
       "      <td>0.028571</td>\n",
       "      <td>[0.0, 0.0, 0.0, 0.0, 0.0, 0.0, 0.0, 0.0, 0.0, ...</td>\n",
       "      <td>[0.0, 0.008695652173913044, 0.0173913043478260...</td>\n",
       "      <td>[1.73781740379283, 0.73781740379283, 0.7316293...</td>\n",
       "    </tr>\n",
       "    <tr>\n",
       "      <th>2</th>\n",
       "      <td>d1p42</td>\n",
       "      <td>M</td>\n",
       "      <td>0.000000</td>\n",
       "      <td>0.426667</td>\n",
       "      <td>[0.0, 0.0, 0.0, 0.0, 0.0, 0.0, 0.0, 0.0, 0.0, ...</td>\n",
       "      <td>[0.0, 0.002136752136752137, 0.0042735042735042...</td>\n",
       "      <td>[1.9297845684027521, 0.9297845684027523, 0.928...</td>\n",
       "    </tr>\n",
       "    <tr>\n",
       "      <th>3</th>\n",
       "      <td>d2p02</td>\n",
       "      <td>F</td>\n",
       "      <td>0.089989</td>\n",
       "      <td>1.000000</td>\n",
       "      <td>[0.0, 0.0, 0.0, 0.0, 0.0, 0.0, 0.0, 0.0, 0.0, ...</td>\n",
       "      <td>[0.0, 0.0011248593925759281, 0.002249718785151...</td>\n",
       "      <td>[1.9924417860992825, 0.9924417860992826, 0.992...</td>\n",
       "    </tr>\n",
       "    <tr>\n",
       "      <th>4</th>\n",
       "      <td>d1p47</td>\n",
       "      <td>M</td>\n",
       "      <td>0.280543</td>\n",
       "      <td>0.012376</td>\n",
       "      <td>[0.0, 0.0, 0.0, 0.0, 0.0, 0.0, 0.0, 0.0, 0.0, ...</td>\n",
       "      <td>[0.0, 0.0022624434389140274, 0.004524886877828...</td>\n",
       "      <td>[1.6962657887472914, 0.6962657887472915, 0.696...</td>\n",
       "    </tr>\n",
       "  </tbody>\n",
       "</table>\n",
       "</div>"
      ],
      "text/plain": [
       "  Subject Gender     FNR05     FPR05  \\\n",
       "0   d1p48      M  0.521368  0.000000   \n",
       "1   d1p36      M  0.034783  0.028571   \n",
       "2   d1p42      M  0.000000  0.426667   \n",
       "3   d2p02      F  0.089989  1.000000   \n",
       "4   d1p47      M  0.280543  0.012376   \n",
       "\n",
       "                                                 FPR  \\\n",
       "0  [0.0, 0.0, 0.0, 0.0, 0.0, 0.0, 0.0, 0.0, 0.0, ...   \n",
       "1  [0.0, 0.0, 0.0, 0.0, 0.0, 0.0, 0.0, 0.0, 0.0, ...   \n",
       "2  [0.0, 0.0, 0.0, 0.0, 0.0, 0.0, 0.0, 0.0, 0.0, ...   \n",
       "3  [0.0, 0.0, 0.0, 0.0, 0.0, 0.0, 0.0, 0.0, 0.0, ...   \n",
       "4  [0.0, 0.0, 0.0, 0.0, 0.0, 0.0, 0.0, 0.0, 0.0, ...   \n",
       "\n",
       "                                                 TPR  \\\n",
       "0  [0.0, 0.002136752136752137, 0.0042735042735042...   \n",
       "1  [0.0, 0.008695652173913044, 0.0173913043478260...   \n",
       "2  [0.0, 0.002136752136752137, 0.0042735042735042...   \n",
       "3  [0.0, 0.0011248593925759281, 0.002249718785151...   \n",
       "4  [0.0, 0.0022624434389140274, 0.004524886877828...   \n",
       "\n",
       "                                                  TH  \n",
       "0  [1.6600350814123797, 0.6600350814123798, 0.649...  \n",
       "1  [1.73781740379283, 0.73781740379283, 0.7316293...  \n",
       "2  [1.9297845684027521, 0.9297845684027523, 0.928...  \n",
       "3  [1.9924417860992825, 0.9924417860992826, 0.992...  \n",
       "4  [1.6962657887472914, 0.6962657887472915, 0.696...  "
      ]
     },
     "execution_count": 21,
     "metadata": {},
     "output_type": "execute_result"
    }
   ],
   "source": [
    "results = pd.DataFrame(results, columns=['Subject', 'Gender', 'FNR05', 'FPR05', 'FPR', 'TPR', 'TH'])\n",
    "results.head()"
   ]
  },
  {
   "cell_type": "code",
   "execution_count": 24,
   "metadata": {},
   "outputs": [
    {
     "data": {
      "text/plain": [
       "<seaborn.axisgrid.FacetGrid at 0x7fa1d561dc50>"
      ]
     },
     "execution_count": 24,
     "metadata": {},
     "output_type": "execute_result"
    },
    {
     "data": {
      "image/png": "[encoded data removed]",
      "text/plain": [
       "<Figure size 404.875x360 with 1 Axes>"
      ]
     },
     "metadata": {
      "needs_background": "light"
     },
     "output_type": "display_data"
    }
   ],
   "source": [
    "sns.displot(x='FNR05', hue='Gender', data=results)"
   ]
  },
  {
   "cell_type": "code",
   "execution_count": 28,
   "metadata": {},
   "outputs": [
    {
     "data": {
      "text/plain": [
       "Gender\n",
       "F    0.717696\n",
       "M    0.891005\n",
       "Name: FNR05, dtype: float64"
      ]
     },
     "execution_count": 28,
     "metadata": {},
     "output_type": "execute_result"
    }
   ],
   "source": [
    "1 - results.groupby('Gender').FNR05.mean()"
   ]
  },
  {
   "cell_type": "code",
   "execution_count": 29,
   "metadata": {},
   "outputs": [
    {
     "data": {
      "text/plain": [
       "array([0.17330867])"
      ]
     },
     "execution_count": 29,
     "metadata": {},
     "output_type": "execute_result"
    }
   ],
   "source": [
    "np.diff(1 - results.groupby('Gender').FNR05.mean())"
   ]
  },
  {
   "cell_type": "code",
   "execution_count": 26,
   "metadata": {},
   "outputs": [
    {
     "data": {
      "text/plain": [
       "<seaborn.axisgrid.FacetGrid at 0x7fa1d33ed9d0>"
      ]
     },
     "execution_count": 26,
     "metadata": {},
     "output_type": "execute_result"
    },
    {
     "data": {
      "image/png": "[encoded data removed]",
      "text/plain": [
       "<Figure size 404.875x360 with 1 Axes>"
      ]
     },
     "metadata": {
      "needs_background": "light"
     },
     "output_type": "display_data"
    }
   ],
   "source": [
    "sns.displot(x='FPR05', hue='Gender', data=results)"
   ]
  },
  {
   "cell_type": "code",
   "execution_count": 27,
   "metadata": {},
   "outputs": [
    {
     "data": {
      "text/plain": [
       "Gender\n",
       "F    0.248981\n",
       "M    0.152636\n",
       "Name: FPR05, dtype: float64"
      ]
     },
     "execution_count": 27,
     "metadata": {},
     "output_type": "execute_result"
    }
   ],
   "source": [
    "results.groupby('Gender').FPR05.mean()"
   ]
  },
  {
   "cell_type": "code",
   "execution_count": 30,
   "metadata": {},
   "outputs": [
    {
     "data": {
      "text/plain": [
       "array([-0.096345])"
      ]
     },
     "execution_count": 30,
     "metadata": {},
     "output_type": "execute_result"
    }
   ],
   "source": [
    "np.diff(results.groupby('Gender').FPR05.mean())"
   ]
  }
 ],
 "metadata": {
  "kernelspec": {
   "display_name": "Python 3",
   "language": "python",
   "name": "python3"
  },
  "language_info": {
   "codemirror_mode": {
    "name": "ipython",
    "version": 3
   },
   "file_extension": ".py",
   "mimetype": "text/x-python",
   "name": "python",
   "nbconvert_exporter": "python",
   "pygments_lexer": "ipython3",
   "version": "3.7.6"
  }
 },
 "nbformat": 4,
 "nbformat_minor": 5
}
