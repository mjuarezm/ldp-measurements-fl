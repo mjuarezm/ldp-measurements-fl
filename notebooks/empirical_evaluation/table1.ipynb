{
 "cells": [
  {
   "cell_type": "markdown",
   "id": "b77fd460",
   "metadata": {
    "toc": "true"
   },
   "source": [
    "# Table of Contents\n",
    " <p>"
   ]
  },
  {
   "cell_type": "code",
   "execution_count": 1,
   "id": "fd34d7d7",
   "metadata": {},
   "outputs": [],
   "source": [
    "import pandas as pd\n",
    "import numpy as np\n",
    "import seaborn as sns\n",
    "\n",
    "from scipy import optimize\n",
    "from functools import partial"
   ]
  },
  {
   "cell_type": "code",
   "execution_count": 97,
   "id": "65513398",
   "metadata": {},
   "outputs": [],
   "source": [
    "# Variance for M_L mechanism\n",
    "def varVL(K, g, e, ν2=1):\n",
    "    '''\n",
    "    K is the total number of clients.\n",
    "    g = n / K-n\n",
    "    e is epsilon (overall dp budget)\n",
    "    ν2 = 1  # to get an upper-bound of the variance of mechanism L\n",
    "    '''\n",
    "    def varL(k, e):\n",
    "        return 2 * ((k / e)**2)\n",
    "\n",
    "    if e < 2 / 3:\n",
    "        e1 = np.log(3) - (e / 2)\n",
    "        vk = varL(2 / 3, e)\n",
    "        \n",
    "    elif e >= 2 / 3:\n",
    "        e1 = np.log(2 / e) + e - 1\n",
    "        vk = 2\n",
    "    el = np.exp(-e1)       \n",
    "       \n",
    "    g0 = (1 + g) / g\n",
    "    g1 = g0 * (1 + g)\n",
    "    g2 = g0 * (1 + g**3) / g\n",
    "    \n",
    "    term1 = el*ν2 + varL(2, e)*(1 + el)\n",
    "    term2 = vk * (el + el*el)\n",
    "    \n",
    "    return (1 / K) * (g1 * term1 + g2 * term2)\n",
    "varVL_vect = np.vectorize(varVL)\n",
    "\n",
    "\n",
    "# Variance for M_L mechanism\n",
    "def varVL2(K, g, e, ν2=1):\n",
    "    '''\n",
    "    K is the total number of clients.\n",
    "    g = n / K-n\n",
    "    e is epsilon (overall dp budget)\n",
    "    ν2 = 1  # to get an upper-bound of the variance of mechanism L\n",
    "    '''\n",
    "    def varL(k, e):\n",
    "        return 2 * ((k / e)**2)\n",
    "\n",
    "    vk = varL(2, e)\n",
    "    e1 = e / 2\n",
    "    el = np.exp(-e1)       \n",
    "       \n",
    "    g0 = (1 + g) / g\n",
    "    g1 = g0 * (1 + g)\n",
    "    g2 = g0 * (1 + g**3) / g\n",
    "    \n",
    "    term1 = el*ν2 + varL(2, e)*(1 + el)\n",
    "    term2 = vk * (el + el*el)\n",
    "    \n",
    "    return (1 / K) * (g1 * term1 + g2 * term2)\n",
    "varVL2_vect = np.vectorize(varVL2)\n",
    "\n",
    "\n",
    "# Variance for M_R mechanism\n",
    "def varVR(K, g, e, ν2=0):\n",
    "    '''\n",
    "    K is the total number of clients.\n",
    "    g = n / K-n\n",
    "    beta = alpha = e (epsilon, overall dp budget)\n",
    "    ν2 = 0  # to get an upper-bound of the variance of mechanism L\n",
    "    '''\n",
    "    b = np.exp(e) / (1 + np.exp(e))\n",
    "    b1 = 2 * b - 1\n",
    "    \n",
    "    a = b\n",
    "    a1 = (1 - a) / a\n",
    "    \n",
    "    g0 = (1 + g) / g\n",
    "    g1 = g0 * (1 + g)\n",
    "    g2 = g0 * (1 + g**3) / g\n",
    "    \n",
    "    d = a * b1 * b1\n",
    "    term1 = (1 - ν2 * a * b1 * b1) / d\n",
    "    term2 = ((1 - a) / a) / d\n",
    "    \n",
    "    return (1 / K) * (g1 * term1 + g2 * term2)\n",
    "varVR_vect = np.vectorize(varVR)\n",
    "\n",
    "\n",
    "# Numerically find the epsilon that satisfies bound alpha\n",
    "def find_epsilon_for_error(K, alpha, var, g=1):\n",
    "    prob = 0.01  #  we define prob = 1 / M^2\n",
    "    def obj(x):\n",
    "        return (var(K, g, x) / prob) - (alpha**2)\n",
    "        #return 10 * np.sqrt(var(K, g, x)) - alpha\n",
    "    sol = optimize.root(obj, 0.000001)\n",
    "    #print((var(K, g, sol.x[0]) / (alpha**2)) - prob)\n",
    "    if (var(K, g, sol.x[0]) / prob) - (alpha**2) > 0.01:\n",
    "        return np.nan\n",
    "    return sol.x[0]\n",
    "find_epsilon_for_error_vect = np.vectorize(find_epsilon_for_error)"
   ]
  },
  {
   "cell_type": "code",
   "execution_count": 98,
   "id": "60033075",
   "metadata": {},
   "outputs": [
    {
     "data": {
      "text/plain": [
       "<matplotlib.lines.Line2D at 0x7fdd38f4fb80>"
      ]
     },
     "execution_count": 98,
     "metadata": {},
     "output_type": "execute_result"
    },
    {
     "data": {
      "image/png": "[encoded data removed]",
      "text/plain": [
       "<Figure size 432x288 with 1 Axes>"
      ]
     },
     "metadata": {
      "needs_background": "light"
     },
     "output_type": "display_data"
    }
   ],
   "source": [
    "# plot variance graph as a sanity check\n",
    "xs = np.linspace(0.1, 4, 100)\n",
    "ax1 = sns.lineplot(x=xs, y =varVL_vect(10000, 1, xs), color='blue')\n",
    "ax2 = sns.lineplot(x=xs, y =varVR_vect(10000, 1, xs), color='orange')\n",
    "ax2 = sns.lineplot(x=xs, y =varVL2_vect(10000, 1, xs), color='red')\n",
    "ax1.set(yscale='log')\n",
    "ax1.axhline(0)"
   ]
  },
  {
   "cell_type": "code",
   "execution_count": 99,
   "id": "61eaf6f0",
   "metadata": {},
   "outputs": [
    {
     "data": {
      "text/plain": [
       "array([0.2517257 , 0.02411457, 0.00187209, 0.00103896, 0.00063254])"
      ]
     },
     "execution_count": 99,
     "metadata": {},
     "output_type": "execute_result"
    }
   ],
   "source": [
    "# we plugin the variance to obtain the Chebyshev bound\n",
    "1 * np.sqrt(varVR_vect(10000000, 1, np.array([0.01, 0.1, 1, 1.78, 10])))"
   ]
  },
  {
   "cell_type": "code",
   "execution_count": 100,
   "id": "50d058ad",
   "metadata": {},
   "outputs": [
    {
     "data": {
      "text/plain": [
       "array([2.10500417e-01, 2.11920119e-02, 2.36643191e-03, 1.42995122e-03,\n",
       "       1.80998644e-04])"
      ]
     },
     "execution_count": 100,
     "metadata": {},
     "output_type": "execute_result"
    }
   ],
   "source": [
    "1 * np.sqrt(varVL_vect(10000000, 1, np.array([0.01, 0.1, 1, 1.78, 10])))"
   ]
  },
  {
   "cell_type": "code",
   "execution_count": 101,
   "id": "cacecc3f",
   "metadata": {},
   "outputs": [
    {
     "data": {
      "text/plain": [
       "array([0.20391696])"
      ]
     },
     "execution_count": 101,
     "metadata": {},
     "output_type": "execute_result"
    }
   ],
   "source": [
    "find_epsilon_for_error_vect(10000000, np.array([0.1048]), varVL)"
   ]
  },
  {
   "cell_type": "code",
   "execution_count": 104,
   "id": "4a334438",
   "metadata": {},
   "outputs": [],
   "source": [
    "ni, nf = 5, 9\n",
    "ns = np.logspace(ni, nf, np.abs(nf - ni) + 1)\n",
    "\n",
    "ai, af = 1, 3\n",
    "alphas = np.logspace(-ai, -af, np.abs(af - ai) + 1)\n",
    "\n",
    "prob = 0.01\n",
    "\n",
    "mechanisms = {\"$\\mathcal M_R$\": varVR, \"$\\mathcal M_L$\": varVL}\n",
    "\n",
    "results, cols = [], []\n",
    "for name, m in mechanisms.items():\n",
    "    results_m = []\n",
    "    for n in ns:\n",
    "        results_m.append(find_epsilon_for_error_vect(n, alphas, m))\n",
    "    results.append(np.vstack(results_m))\n",
    "columns = pd.MultiIndex.from_product((mechanisms, alphas), names=('Mechanism', '$\\\\alpha$'))\n",
    "df = pd.DataFrame(np.hstack(results), columns=columns)\n",
    "ks = [f\"$10^{int(np.log10(x))}$\" for x in ns]\n",
    "df.insert(0, 'K', value=ks)\n",
    "df.set_index('K')\n",
    "for k, row in df.iterrows():\n",
    "    for m in mechanisms:\n",
    "        for a in alphas:\n",
    "            kval = 10 ** (ni + k)\n",
    "            eps = row[m][a]\n",
    "            vari = varVL(kval, 1, eps) if m == \"$\\mathcal M_L$\" else varVR(kval, 1, eps)\n",
    "            if np.abs(a * a * prob - vari) > (a * a * prob / 10):\n",
    "                col_i = list(alphas).index(a) + 1 if m == \"$\\mathcal M_R$\" else len(list(alphas)) + list(alphas).index(a) + 1\n",
    "                df.iat[k, col_i] = np.nan"
   ]
  },
  {
   "cell_type": "code",
   "execution_count": 105,
   "id": "6d5d65dc",
   "metadata": {},
   "outputs": [
    {
     "name": "stdout",
     "output_type": "stream",
     "text": [
      "\\begin{tabular}{lrrrrrr}\n",
      "\\toprule\n",
      "     K & \\multicolumn{3}{l}{$\\mathcal M_R$} & \\multicolumn{3}{l}{$\\mathcal M_L$} \\\\\n",
      "       &            0.1 & 0.01 & 0.001 &            0.1 &  0.01 &  0.001 \\\\\n",
      "\\midrule\n",
      "$10^5$ &           1.86 &  - &   - &           2.56 & 17.89 & 178.89 \\\\\n",
      "$10^6$ &           0.63 &  - &   - &           0.71 &  6.32 &  56.57 \\\\\n",
      "$10^7$ &           0.23 & 1.86 &   - &           0.21 &  2.56 &  17.89 \\\\\n",
      "$10^8$ &           0.08 & 0.63 &   - &           0.07 &  0.71 &   6.32 \\\\\n",
      "$10^9$ &           0.02 & 0.23 &  1.86 &           0.02 &  0.21 &   2.56 \\\\\n",
      "\\bottomrule\n",
      "\\end{tabular}\n",
      "\n"
     ]
    },
    {
     "name": "stderr",
     "output_type": "stream",
     "text": [
      "/var/folders/73/gr4g44153kx3s455d802g7k80000gq/T/ipykernel_6634/3692896898.py:1: FutureWarning: In future versions `DataFrame.to_latex` is expected to utilise the base implementation of `Styler.to_latex` for formatting and rendering. The arguments signature may therefore change. It is recommended instead to use `DataFrame.style.to_latex` which also contains additional functionality.\n",
      "  print(df.to_latex(index=False, escape=False, float_format=\"%.2f\").replace('NaN', '-'))\n"
     ]
    }
   ],
   "source": [
    "print(df.to_latex(index=False, escape=False, float_format=\"%.2f\").replace('NaN', '-'))"
   ]
  },
  {
   "cell_type": "code",
   "execution_count": 57,
   "id": "c8ffc7b6-c919-4046-9f54-ad3c9ba83a49",
   "metadata": {},
   "outputs": [],
   "source": [
    "np.testing.assert_almost_equal(varVL(100000, 1, 178.89), 0.001 * 0.001 * 0.01, decimal=7)"
   ]
  },
  {
   "cell_type": "code",
   "execution_count": 61,
   "id": "e31b215c-394a-4712-a5cf-ad36d6090a6c",
   "metadata": {},
   "outputs": [],
   "source": [
    "np.testing.assert_almost_equal(varVR(1000000000, 1, 1.86), 0.001 * 0.001 * 0.01, decimal=7)"
   ]
  },
  {
   "cell_type": "code",
   "execution_count": 62,
   "id": "b615412e-0773-42d5-b721-5c8b9db81595",
   "metadata": {},
   "outputs": [
    {
     "ename": "AssertionError",
     "evalue": "\nArrays are not almost equal to 7 decimals\n ACTUAL: 4.000000000001432e-05\n DESIRED: 1e-08",
     "output_type": "error",
     "traceback": [
      "\u001b[0;31m---------------------------------------------------------------------------\u001b[0m",
      "\u001b[0;31mAssertionError\u001b[0m                            Traceback (most recent call last)",
      "Input \u001b[0;32mIn [62]\u001b[0m, in \u001b[0;36m<cell line: 1>\u001b[0;34m()\u001b[0m\n\u001b[0;32m----> 1\u001b[0m \u001b[43mnp\u001b[49m\u001b[38;5;241;43m.\u001b[39;49m\u001b[43mtesting\u001b[49m\u001b[38;5;241;43m.\u001b[39;49m\u001b[43massert_almost_equal\u001b[49m\u001b[43m(\u001b[49m\u001b[43mvarVR\u001b[49m\u001b[43m(\u001b[49m\u001b[38;5;241;43m100000\u001b[39;49m\u001b[43m,\u001b[49m\u001b[43m \u001b[49m\u001b[38;5;241;43m1\u001b[39;49m\u001b[43m,\u001b[49m\u001b[43m \u001b[49m\u001b[38;5;241;43m30.45\u001b[39;49m\u001b[43m)\u001b[49m\u001b[43m,\u001b[49m\u001b[43m \u001b[49m\u001b[38;5;241;43m0.001\u001b[39;49m\u001b[43m \u001b[49m\u001b[38;5;241;43m*\u001b[39;49m\u001b[43m \u001b[49m\u001b[38;5;241;43m0.001\u001b[39;49m\u001b[43m \u001b[49m\u001b[38;5;241;43m*\u001b[39;49m\u001b[43m \u001b[49m\u001b[38;5;241;43m0.01\u001b[39;49m\u001b[43m,\u001b[49m\u001b[43m \u001b[49m\u001b[43mdecimal\u001b[49m\u001b[38;5;241;43m=\u001b[39;49m\u001b[38;5;241;43m7\u001b[39;49m\u001b[43m)\u001b[49m\n",
      "File \u001b[0;32m~/opt/anaconda3/lib/python3.9/site-packages/numpy/testing/_private/utils.py:599\u001b[0m, in \u001b[0;36massert_almost_equal\u001b[0;34m(actual, desired, decimal, err_msg, verbose)\u001b[0m\n\u001b[1;32m    597\u001b[0m     \u001b[38;5;28;01mpass\u001b[39;00m\n\u001b[1;32m    598\u001b[0m \u001b[38;5;28;01mif\u001b[39;00m \u001b[38;5;28mabs\u001b[39m(desired \u001b[38;5;241m-\u001b[39m actual) \u001b[38;5;241m>\u001b[39m\u001b[38;5;241m=\u001b[39m \u001b[38;5;241m1.5\u001b[39m \u001b[38;5;241m*\u001b[39m \u001b[38;5;241m10.0\u001b[39m\u001b[38;5;241m*\u001b[39m\u001b[38;5;241m*\u001b[39m(\u001b[38;5;241m-\u001b[39mdecimal):\n\u001b[0;32m--> 599\u001b[0m     \u001b[38;5;28;01mraise\u001b[39;00m \u001b[38;5;167;01mAssertionError\u001b[39;00m(_build_err_msg())\n",
      "\u001b[0;31mAssertionError\u001b[0m: \nArrays are not almost equal to 7 decimals\n ACTUAL: 4.000000000001432e-05\n DESIRED: 1e-08"
     ]
    }
   ],
   "source": [
    "np.testing.assert_almost_equal(varVR(100000, 1, 30.45), 0.001 * 0.001 * 0.01, decimal=7)"
   ]
  },
  {
   "cell_type": "code",
   "execution_count": 75,
   "id": "031c421f-74ba-44b5-b0e9-8423afaf0aff",
   "metadata": {},
   "outputs": [
    {
     "data": {
      "text/plain": [
       "4.0000000000000054e-08"
      ]
     },
     "execution_count": 75,
     "metadata": {},
     "output_type": "execute_result"
    }
   ],
   "source": [
    "varVR(100000000, 1, 35.93)"
   ]
  },
  {
   "cell_type": "code",
   "execution_count": 76,
   "id": "dd7e9dd6-0b42-4632-ab29-2b13d660eb3b",
   "metadata": {},
   "outputs": [
    {
     "data": {
      "text/plain": [
       "1e-08"
      ]
     },
     "execution_count": 76,
     "metadata": {},
     "output_type": "execute_result"
    }
   ],
   "source": [
    "0.001 * 0.001 * 0.01"
   ]
  },
  {
   "cell_type": "code",
   "execution_count": null,
   "id": "c892b9f6-e991-4789-92ec-dd6ddb7f379a",
   "metadata": {},
   "outputs": [],
   "source": [
    "0.00000004"
   ]
  },
  {
   "cell_type": "code",
   "execution_count": null,
   "id": "cc4f44bd-3a78-4742-8596-fd6d92c1fde6",
   "metadata": {},
   "outputs": [],
   "source": [
    "0.00000001"
   ]
  }
 ],
 "metadata": {
  "kernelspec": {
   "display_name": "Python 3 (ipykernel)",
   "language": "python",
   "name": "python3"
  },
  "language_info": {
   "codemirror_mode": {
    "name": "ipython",
    "version": 3
   },
   "file_extension": ".py",
   "mimetype": "text/x-python",
   "name": "python",
   "nbconvert_exporter": "python",
   "pygments_lexer": "ipython3",
   "version": "3.9.12"
  },
  "latex_envs": {
   "bibliofile": "biblio.bib",
   "cite_by": "apalike",
   "current_citInitial": 1,
   "eqLabelWithNumbers": true,
   "eqNumInitial": 0
  },
  "toc": {
   "toc_cell": true,
   "toc_number_sections": true,
   "toc_threshold": 6,
   "toc_window_display": false
  }
 },
 "nbformat": 4,
 "nbformat_minor": 5
}
